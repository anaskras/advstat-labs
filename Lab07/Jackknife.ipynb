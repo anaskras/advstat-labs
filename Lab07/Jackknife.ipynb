{
 "cells": [
  {
   "cell_type": "code",
   "execution_count": 35,
   "metadata": {
    "collapsed": true
   },
   "outputs": [],
   "source": [
    "import numpy as np \n",
    "from scipy.stats import lognorm, norm, skew"
   ]
  },
  {
   "cell_type": "code",
   "execution_count": 68,
   "metadata": {
    "collapsed": true
   },
   "outputs": [],
   "source": [
    "def jackknife(x, func):\n",
    "    \"\"\"Jackknife estimate of the estimator func\"\"\"\n",
    "    n = len(x)\n",
    "    idx = np.arange(n)\n",
    "    tetta_n = np.sum(func(x[idx!=i]) for i in range(n))/float(n)\n",
    "    tetta = n * func(x) - (n - 1) * tetta_n\n",
    "    return tetta"
   ]
  },
  {
   "cell_type": "code",
   "execution_count": 73,
   "metadata": {},
   "outputs": [
    {
     "name": "stdout",
     "output_type": "stream",
     "text": [
      "sample mean:  0.018070831016\n",
      "actual mean: 0\n",
      "mean jackknife:  0.018070831016\n"
     ]
    }
   ],
   "source": [
    "# Jackknife estimate mean for normal distribution\n",
    "x = norm.rvs(loc=0, scale=1, size=1000)\n",
    "print('sample mean: ', x.mean())\n",
    "print('actual mean: 0')\n",
    "print('mean jackknife: ', jackknife(x, np.mean))"
   ]
  },
  {
   "cell_type": "code",
   "execution_count": 74,
   "metadata": {},
   "outputs": [
    {
     "name": "stdout",
     "output_type": "stream",
     "text": [
      "sample median:  0.00714402659683\n",
      "actual median: 0\n",
      "median jackknife:  0.00714402659675\n"
     ]
    }
   ],
   "source": [
    "# Jackknife estimate median for normal distribution\n",
    "print('sample median: ', np.median(x))\n",
    "print('actual median: 0')\n",
    "print('median jackknife: ', jackknife(x, np.median))"
   ]
  },
  {
   "cell_type": "code",
   "execution_count": 77,
   "metadata": {},
   "outputs": [
    {
     "name": "stdout",
     "output_type": "stream",
     "text": [
      "sample mean:  1.73132293903\n",
      "actual mean:  1.5702738014766044\n",
      "mean jackknife:  1.73132293903\n"
     ]
    }
   ],
   "source": [
    "# Jackknife estimate mean for lognormal distribution\n",
    "s=0.95\n",
    "y = lognorm.rvs(s, loc=0, scale=1, size=100)\n",
    "print('sample mean: ', y.mean())\n",
    "print('actual mean: ', lognorm.stats(s, moments='m'))\n",
    "print('mean jackknife: ', jackknife(y, np.mean))"
   ]
  },
  {
   "cell_type": "code",
   "execution_count": 78,
   "metadata": {},
   "outputs": [
    {
     "name": "stdout",
     "output_type": "stream",
     "text": [
      "sample skewness:  3.003622244544039\n",
      "actual skewness:  5.406631446568272\n",
      "skewness jackknife:  3.3484781957404266\n"
     ]
    }
   ],
   "source": [
    "# Jackknife estimate skewness for normal distribution\n",
    "print('sample skewness: ', skew(y))\n",
    "print('actual skewness: ', lognorm.stats(s, moments='s'))\n",
    "print('skewness jackknife: ', jackknife(y, skew))"
   ]
  },
  {
   "cell_type": "code",
   "execution_count": null,
   "metadata": {
    "collapsed": true
   },
   "outputs": [],
   "source": [
    ""
   ]
  }
 ],
 "metadata": {
  "kernelspec": {
   "display_name": "Python 3",
   "language": "python",
   "name": "python3"
  },
  "language_info": {
   "codemirror_mode": {
    "name": "ipython",
    "version": 3.0
   },
   "file_extension": ".py",
   "mimetype": "text/x-python",
   "name": "python",
   "nbconvert_exporter": "python",
   "pygments_lexer": "ipython3",
   "version": "3.6.1"
  }
 },
 "nbformat": 4,
 "nbformat_minor": 0
}